{
 "cells": [
  {
   "cell_type": "markdown",
   "id": "dce70430-e62f-437d-af9a-c3fa2c6590fa",
   "metadata": {},
   "source": [
    "# Propagation d’opinion dans un réseau social\n",
    "## Vision déterministe"
   ]
  },
  {
   "cell_type": "code",
   "execution_count": 8,
   "id": "1cc1d9ad-36ee-4e2d-8502-b15d9d86ba3e",
   "metadata": {},
   "outputs": [],
   "source": [
    "import numpy as np\n",
    "import matplotlib.pyplot as plt\n",
    "import networkx as nx"
   ]
  },
  {
   "cell_type": "code",
   "execution_count": 28,
   "id": "feed1f79-e78f-4800-9624-d603f5621f62",
   "metadata": {},
   "outputs": [
    {
     "data": {
      "image/png": "[encoded data removed]",
      "text/plain": [
       "<Figure size 640x480 with 1 Axes>"
      ]
     },
     "metadata": {},
     "output_type": "display_data"
    },
    {
     "name": "stdout",
     "output_type": "stream",
     "text": [
      "Etape 0 :\n",
      " [[0.  0.5 1.  0. ]\n",
      " [0.5 0.  0.  1. ]\n",
      " [0.  0.  0.  0. ]\n",
      " [0.  0.  0.  0. ]] \n",
      "\n",
      "Etape 1 :\n",
      " [[0.  0.5 1.  0. ]\n",
      " [0.5 0.  0.  1. ]\n",
      " [0.  0.  0.  0. ]\n",
      " [0.  0.  0.  0. ]] \n",
      "\n",
      "Etape 2 :\n",
      " [[0.  0.5 1.  0. ]\n",
      " [0.5 0.  0.  1. ]\n",
      " [0.  0.  0.  0. ]\n",
      " [0.  0.  0.  0. ]] \n",
      "\n",
      "Etape 3 :\n",
      " [[0.  0.5 1.  0. ]\n",
      " [0.5 0.  0.  1. ]\n",
      " [0.  0.  0.  0. ]\n",
      " [0.  0.  0.  0. ]] \n",
      "\n"
     ]
    }
   ],
   "source": [
    "reseau1_Influence = np.array([[0, 0.5, 1, 0],\n",
    "                              [0.5, 0, 0, 1],\n",
    "                              [0, 0, 0, 0],\n",
    "                              [0, 0, 0, 0]])\n",
    "reseau1_Opinion = [0, 0, 0, 0] #L'indice correpond au noeud dans le graphe\n",
    "\n",
    "#Traduction pour affichage car DiGraph n'accepte que des matrices composées de 0 ou de 1\n",
    "def tradReseauAffichage(reseau: np.array):\n",
    "    tradReseau = reseau.copy()\n",
    "    for noeud in tradReseau:\n",
    "        for influence in noeud:\n",
    "            if influence != 0: #Si il y a une influence alors il y a une connection\n",
    "                influence = 1\n",
    "    return tradReseau\n",
    "\n",
    "#Mise à jour des opinions\n",
    "def updateReseau():\n",
    "    return\n",
    "\n",
    "#Affichage graphe\n",
    "G = nx.DiGraph(tradReseauAffichage(reseau1_Influence))\n",
    "nx.draw(G, with_labels=True)\n",
    "plt.show()\n",
    "\n",
    "#Pseudo animation\n",
    "for i in range(4):\n",
    "    print(\"Etape\", i, \":\\n\", reseau1_Influence, \"\\n\") #On affiche les opinions à chaque étape\n"
   ]
  },
  {
   "cell_type": "code",
   "execution_count": null,
   "id": "b9081581-6cee-4d9a-8072-9b28fef27613",
   "metadata": {},
   "outputs": [],
   "source": []
  }
 ],
 "metadata": {
  "kernelspec": {
   "display_name": "Python 3 (ipykernel)",
   "language": "python",
   "name": "python3"
  },
  "language_info": {
   "codemirror_mode": {
    "name": "ipython",
    "version": 3
   },
   "file_extension": ".py",
   "mimetype": "text/x-python",
   "name": "python",
   "nbconvert_exporter": "python",
   "pygments_lexer": "ipython3",
   "version": "3.11.0"
  }
 },
 "nbformat": 4,
 "nbformat_minor": 5
}
